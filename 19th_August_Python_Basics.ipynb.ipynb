{
  "nbformat": 4,
  "nbformat_minor": 0,
  "metadata": {
    "colab": {
      "provenance": []
    },
    "kernelspec": {
      "name": "python3",
      "display_name": "Python 3"
    },
    "language_info": {
      "name": "python"
    }
  },
  "cells": [
    {
      "cell_type": "markdown",
      "source": [
        "**ASSIGNMENT - 1**"
      ],
      "metadata": {
        "id": "OPPmpHAOgoaB"
      }
    },
    {
      "cell_type": "markdown",
      "source": [
        "*TOPIC: Python Basics Variable*"
      ],
      "metadata": {
        "id": "yzrPUJ-MgR6p"
      }
    },
    {
      "cell_type": "markdown",
      "source": [
        "1. Declare two variables, `x` and `y`, and assign them integer values. Swap the\n",
        "values of these variables without using any temporary variable."
      ],
      "metadata": {
        "id": "th6Q0bJGeE2_"
      }
    },
    {
      "cell_type": "code",
      "execution_count": 11,
      "metadata": {
        "id": "NbNPI0Vrdc6S"
      },
      "outputs": [],
      "source": [
        "# Initial values\n",
        "x = 5\n",
        "y = 10"
      ]
    },
    {
      "cell_type": "code",
      "source": [
        "# Print original values\n",
        "print(\"Original values:\")\n",
        "print(\"x =\", x)\n",
        "print(\"y =\", y)"
      ],
      "metadata": {
        "colab": {
          "base_uri": "https://localhost:8080/"
        },
        "id": "JASfCJvzdgYH",
        "outputId": "943900aa-a4e4-4601-fa50-a56fbbdfbfcb"
      },
      "execution_count": 12,
      "outputs": [
        {
          "output_type": "stream",
          "name": "stdout",
          "text": [
            "Original values:\n",
            "x = 5\n",
            "y = 10\n"
          ]
        }
      ]
    },
    {
      "cell_type": "code",
      "source": [
        "# Swap values without a temporary variable\n",
        "x = x + y\n",
        "y = x - y\n",
        "x = x - y"
      ],
      "metadata": {
        "id": "je19y7BkdjK2"
      },
      "execution_count": 13,
      "outputs": []
    },
    {
      "cell_type": "code",
      "source": [
        "# Print swapped values\n",
        "print(\"After swapping:\")\n",
        "print(\"x =\", x)\n",
        "print(\"y =\", y)"
      ],
      "metadata": {
        "colab": {
          "base_uri": "https://localhost:8080/"
        },
        "id": "O_k3blondqZH",
        "outputId": "c4966a49-dc41-410b-aeb8-347d80621a62"
      },
      "execution_count": 14,
      "outputs": [
        {
          "output_type": "stream",
          "name": "stdout",
          "text": [
            "After swapping:\n",
            "x = 10\n",
            "y = 5\n"
          ]
        }
      ]
    },
    {
      "cell_type": "markdown",
      "source": [
        "2. Create a program that calculates the area of a rectangle. Take the length and\n",
        "width as inputs from the user and store them in variables. Calculate and\n",
        "display the area."
      ],
      "metadata": {
        "id": "Mkc_Ap8qeaQn"
      }
    },
    {
      "cell_type": "code",
      "source": [
        "# Function to calculate the area of a rectangle\n",
        "def calculate_area(length, width):\n",
        "    return length * width"
      ],
      "metadata": {
        "id": "2GBOXuo-ebnT"
      },
      "execution_count": 15,
      "outputs": []
    },
    {
      "cell_type": "code",
      "source": [
        "# Taking length and width as inputs from the user\n",
        "length = float(input(\"Enter the length of the rectangle: \"))\n",
        "width = float(input(\"Enter the width of the rectangle: \"))"
      ],
      "metadata": {
        "colab": {
          "base_uri": "https://localhost:8080/"
        },
        "id": "LNXDaMgpe4z2",
        "outputId": "3bcec5c3-d811-4ca7-f1e8-ff5f24713ff7"
      },
      "execution_count": 16,
      "outputs": [
        {
          "name": "stdout",
          "output_type": "stream",
          "text": [
            "Enter the length of the rectangle: 5\n",
            "Enter the width of the rectangle: 6\n"
          ]
        }
      ]
    },
    {
      "cell_type": "code",
      "source": [
        "# Calculating the area\n",
        "area = calculate_area(length, width)"
      ],
      "metadata": {
        "id": "q5CfK2rpe-mW"
      },
      "execution_count": 17,
      "outputs": []
    },
    {
      "cell_type": "code",
      "source": [
        "# Displaying the result\n",
        "print(\"The area of the rectangle is:\", area)"
      ],
      "metadata": {
        "colab": {
          "base_uri": "https://localhost:8080/"
        },
        "id": "CmNnidnNfB1e",
        "outputId": "30f8051a-548d-44c3-e466-e639798a83d1"
      },
      "execution_count": 18,
      "outputs": [
        {
          "output_type": "stream",
          "name": "stdout",
          "text": [
            "The area of the rectangle is: 30.0\n"
          ]
        }
      ]
    },
    {
      "cell_type": "markdown",
      "source": [
        "3. Write a Python program that converts temperatures from Celsius to\n",
        "Fahrenheit. Take the temperature in Celsius as input, store it in a variable,\n",
        "convert it to Fahrenheit, and display the result."
      ],
      "metadata": {
        "id": "zbFlzM5QfUmu"
      }
    },
    {
      "cell_type": "code",
      "source": [
        "# Function to convert Celsius to Fahrenheit\n",
        "def celsius_to_fahrenheit(celsius):\n",
        "    return (celsius * 9/5) + 32"
      ],
      "metadata": {
        "id": "H0WI5aJLfZwe"
      },
      "execution_count": 19,
      "outputs": []
    },
    {
      "cell_type": "code",
      "source": [
        "# Taking temperature in Celsius as input from the user\n",
        "celsius = float(input(\"Enter the temperature in Celsius: \"))"
      ],
      "metadata": {
        "colab": {
          "base_uri": "https://localhost:8080/"
        },
        "id": "jbhXbQOffjGn",
        "outputId": "c54e4657-9479-4947-a44f-4932ca448b32"
      },
      "execution_count": 20,
      "outputs": [
        {
          "name": "stdout",
          "output_type": "stream",
          "text": [
            "Enter the temperature in Celsius: 56\n"
          ]
        }
      ]
    },
    {
      "cell_type": "code",
      "source": [
        "# Converting Celsius to Fahrenheit\n",
        "fahrenheit = celsius_to_fahrenheit(celsius)"
      ],
      "metadata": {
        "id": "Pe5guyRPfld_"
      },
      "execution_count": 21,
      "outputs": []
    },
    {
      "cell_type": "code",
      "source": [
        "# Displaying the result\n",
        "print(\"The temperature in Fahrenheit is:\", fahrenheit)"
      ],
      "metadata": {
        "colab": {
          "base_uri": "https://localhost:8080/"
        },
        "id": "LwH-0XN0fo6B",
        "outputId": "e39733d6-8ba9-4add-dc6f-d975f8b135d4"
      },
      "execution_count": 22,
      "outputs": [
        {
          "output_type": "stream",
          "name": "stdout",
          "text": [
            "The temperature in Fahrenheit is: 132.8\n"
          ]
        }
      ]
    },
    {
      "cell_type": "markdown",
      "source": [
        "*TOPIC: Python Basics Variable*"
      ],
      "metadata": {
        "id": "Or0h-UtWgfa2"
      }
    },
    {
      "cell_type": "markdown",
      "source": [
        "1. Write a Python program that takes a string as input and prints the length of\n",
        "the string."
      ],
      "metadata": {
        "id": "Ii8ZFPN3g2dv"
      }
    },
    {
      "cell_type": "code",
      "source": [
        "# Taking a string as input from the user\n",
        "user_input = input(\"Enter a string: \")"
      ],
      "metadata": {
        "colab": {
          "base_uri": "https://localhost:8080/"
        },
        "id": "9fAU2E3Eg3yn",
        "outputId": "d6466557-606e-4cce-ba1d-aa8f023f0557"
      },
      "execution_count": 28,
      "outputs": [
        {
          "name": "stdout",
          "output_type": "stream",
          "text": [
            "Enter a string: nest is cool\n"
          ]
        }
      ]
    },
    {
      "cell_type": "code",
      "source": [
        "# Calculating the length of the string\n",
        "length_of_string = len(user_input)"
      ],
      "metadata": {
        "id": "lWwdKn5XhKpq"
      },
      "execution_count": 29,
      "outputs": []
    },
    {
      "cell_type": "code",
      "source": [
        "# Displaying the result\n",
        "print(\"The length of the string is:\", length_of_string)"
      ],
      "metadata": {
        "colab": {
          "base_uri": "https://localhost:8080/"
        },
        "id": "Z3cnj9BmhOUf",
        "outputId": "1ba6e6f2-0646-4a39-92a8-c6472c1eccba"
      },
      "execution_count": 30,
      "outputs": [
        {
          "output_type": "stream",
          "name": "stdout",
          "text": [
            "The length of the string is: 12\n"
          ]
        }
      ]
    },
    {
      "cell_type": "markdown",
      "source": [
        "2. Create a program that takes a sentence from the user and counts the number\n",
        "of vowels (a, e, i, o, u) in the string."
      ],
      "metadata": {
        "id": "LXn-jj2Xhfbu"
      }
    },
    {
      "cell_type": "code",
      "source": [
        "# Function to count vowels in a string\n",
        "def count_vowels(sentence):\n",
        "    vowels = \"aeiouAEIOU\"  # Define a string of all vowels (both lowercase and uppercase)\n",
        "    count = 0  # Initialize count to zero\n",
        "    for char in sentence:  # Iterate through each character in the sentence\n",
        "        if char in vowels:  # Check if the character is a vowel\n",
        "            count += 1  # Increment count if it is a vowel\n",
        "    return count  # Return the total count of vowels"
      ],
      "metadata": {
        "id": "4VP0a4WGhi9K"
      },
      "execution_count": 32,
      "outputs": []
    },
    {
      "cell_type": "code",
      "source": [
        "# Taking a sentence as input from the user\n",
        "user_input = input(\"Enter a sentence: \")"
      ],
      "metadata": {
        "colab": {
          "base_uri": "https://localhost:8080/"
        },
        "id": "FCKC3VYchuhr",
        "outputId": "37497f25-915e-45da-c7f6-3cd0d8f6f130"
      },
      "execution_count": 33,
      "outputs": [
        {
          "name": "stdout",
          "output_type": "stream",
          "text": [
            "Enter a sentence: the soul of arghoun\n"
          ]
        }
      ]
    },
    {
      "cell_type": "code",
      "source": [
        "# Counting the number of vowels in the input sentence\n",
        "num_vowels = count_vowels(user_input)"
      ],
      "metadata": {
        "id": "KZdHEptFi7EN"
      },
      "execution_count": 34,
      "outputs": []
    },
    {
      "cell_type": "code",
      "source": [
        "# Displaying the result\n",
        "print(\"Number of vowels in the sentence:\", num_vowels)"
      ],
      "metadata": {
        "colab": {
          "base_uri": "https://localhost:8080/"
        },
        "id": "nMVBODgMjCM1",
        "outputId": "f0b371c5-f035-4b04-dc83-e99c5a53ea1d"
      },
      "execution_count": 35,
      "outputs": [
        {
          "output_type": "stream",
          "name": "stdout",
          "text": [
            "Number of vowels in the sentence: 7\n"
          ]
        }
      ]
    },
    {
      "cell_type": "markdown",
      "source": [
        "3. Given a string, reverse the order of characters using string slicing and print\n",
        "the reversed string."
      ],
      "metadata": {
        "id": "cr2CtUGDjfA4"
      }
    },
    {
      "cell_type": "code",
      "source": [
        "# Function to reverse a string using slicing\n",
        "def reverse_string(input_string):\n",
        "    return input_string[::-1]"
      ],
      "metadata": {
        "id": "MFfxdXVbjfzc"
      },
      "execution_count": 38,
      "outputs": []
    },
    {
      "cell_type": "code",
      "source": [
        "# Taking a string as input from the user\n",
        "user_input = input(\"Enter a string: \")"
      ],
      "metadata": {
        "colab": {
          "base_uri": "https://localhost:8080/"
        },
        "id": "p1NOER6zjk74",
        "outputId": "2b233459-677e-4070-d85c-59c3e072fa9a"
      },
      "execution_count": 39,
      "outputs": [
        {
          "name": "stdout",
          "output_type": "stream",
          "text": [
            "Enter a string: make your own code\n"
          ]
        }
      ]
    },
    {
      "cell_type": "code",
      "source": [
        "# Reversing the input string\n",
        "reversed_string = reverse_string(user_input)"
      ],
      "metadata": {
        "id": "U6JO7rinjnb0"
      },
      "execution_count": 40,
      "outputs": []
    },
    {
      "cell_type": "code",
      "source": [
        "# Displaying the reversed string\n",
        "print(\"Reversed string:\", reversed_string)"
      ],
      "metadata": {
        "colab": {
          "base_uri": "https://localhost:8080/"
        },
        "id": "kRzRm05cjtF-",
        "outputId": "553124c6-fb66-4639-e640-c413300dfabf"
      },
      "execution_count": 41,
      "outputs": [
        {
          "output_type": "stream",
          "name": "stdout",
          "text": [
            "Reversed string: edoc nwo ruoy ekam\n"
          ]
        }
      ]
    },
    {
      "cell_type": "markdown",
      "source": [
        "4. Write a program that takes a string as input and checks if it is a palindrome\n",
        "(reads the same forwards and backwards)."
      ],
      "metadata": {
        "id": "P77M3U3AkCIH"
      }
    },
    {
      "cell_type": "code",
      "source": [
        "# Function to check if a string is palindrome\n",
        "def is_palindrome(input_string):\n",
        "    # Convert the input string to lowercase and remove spaces\n",
        "    input_string = input_string.lower().replace(\" \", \"\")\n",
        "    # Compare the string with its reverse\n",
        "    return input_string == input_string[::-1]"
      ],
      "metadata": {
        "id": "bmUQMNjbkDDc"
      },
      "execution_count": 44,
      "outputs": []
    },
    {
      "cell_type": "code",
      "source": [
        "# Taking a string as input from the user\n",
        "user_input = input(\"Enter a string: \")"
      ],
      "metadata": {
        "colab": {
          "base_uri": "https://localhost:8080/"
        },
        "id": "tPCksTTykXsf",
        "outputId": "2dccfb0b-ad62-4024-8e7f-7dae64f2aebc"
      },
      "execution_count": 45,
      "outputs": [
        {
          "name": "stdout",
          "output_type": "stream",
          "text": [
            "Enter a string: racecar\n"
          ]
        }
      ]
    },
    {
      "cell_type": "code",
      "source": [
        "# Checking if the input string is a palindrome\n",
        "if is_palindrome(user_input):\n",
        "    print(f\"'{user_input}' is a palindrome.\")\n",
        "else:\n",
        "    print(f\"'{user_input}' is not a palindrome.\")"
      ],
      "metadata": {
        "colab": {
          "base_uri": "https://localhost:8080/"
        },
        "id": "fITsVvawkZe2",
        "outputId": "dfac62f5-125e-483d-b73d-aee2a79fdd07"
      },
      "execution_count": 46,
      "outputs": [
        {
          "output_type": "stream",
          "name": "stdout",
          "text": [
            "'racecar' is a palindrome.\n"
          ]
        }
      ]
    },
    {
      "cell_type": "markdown",
      "source": [
        "5. Create a program that takes a string as input and removes all the spaces from\n",
        "it. Print the modified string without spaces."
      ],
      "metadata": {
        "id": "hYQpQXgkksKq"
      }
    },
    {
      "cell_type": "code",
      "source": [
        "# Function to remove spaces from a string\n",
        "def remove_spaces(input_string):\n",
        "    return input_string.replace(\" \", \"\")"
      ],
      "metadata": {
        "id": "8xSrWiFJkwc3"
      },
      "execution_count": 47,
      "outputs": []
    },
    {
      "cell_type": "code",
      "source": [
        "# Taking a string as input from the user\n",
        "user_input = input(\"Enter a string: \")"
      ],
      "metadata": {
        "colab": {
          "base_uri": "https://localhost:8080/"
        },
        "id": "Pr5RqAXIk5Ew",
        "outputId": "363ce66f-ef42-449a-8f59-cecaa2180c7b"
      },
      "execution_count": 48,
      "outputs": [
        {
          "name": "stdout",
          "output_type": "stream",
          "text": [
            "Enter a string: buy me one\n"
          ]
        }
      ]
    },
    {
      "cell_type": "code",
      "source": [
        "# Removing spaces from the input string\n",
        "modified_string = remove_spaces(user_input)"
      ],
      "metadata": {
        "id": "6FpfAGoCk6pc"
      },
      "execution_count": 49,
      "outputs": []
    },
    {
      "cell_type": "code",
      "source": [
        "# Displaying the modified string without spaces\n",
        "print(\"Modified string without spaces:\", modified_string)"
      ],
      "metadata": {
        "colab": {
          "base_uri": "https://localhost:8080/"
        },
        "id": "2feD-WDxlAxx",
        "outputId": "be4180af-1b8f-4d76-fa55-f15b0125b575"
      },
      "execution_count": 50,
      "outputs": [
        {
          "output_type": "stream",
          "name": "stdout",
          "text": [
            "Modified string without spaces: buymeone\n"
          ]
        }
      ]
    }
  ]
}