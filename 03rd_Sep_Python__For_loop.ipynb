{
  "nbformat": 4,
  "nbformat_minor": 0,
  "metadata": {
    "colab": {
      "provenance": []
    },
    "kernelspec": {
      "name": "python3",
      "display_name": "Python 3"
    },
    "language_info": {
      "name": "python"
    }
  },
  "cells": [
    {
      "cell_type": "markdown",
      "source": [
        "31. Write a program to generate a list of prime numbers using the Sieve of Eratosthenes algorithm and list comprehension."
      ],
      "metadata": {
        "id": "Eg6Y6lg7iwdF"
      }
    },
    {
      "cell_type": "code",
      "source": [
        "def generate_primes(n):\n",
        "  \"\"\"Generates a list of prime numbers up to a given number n using the Sieve of Eratosthenes.\n",
        "\n",
        "  Args:\n",
        "    n: The upper limit for prime number generation.\n",
        "\n",
        "  Returns:\n",
        "    A list containing all prime numbers less than or equal to n.\n",
        "  \"\"\"\n",
        "  # Create a list of booleans, where is_prime[i] indicates if i is prime.\n",
        "  is_prime = [True] * (n + 1)\n",
        "  is_prime[0] = False  # 0 and 1 are not prime\n",
        "  is_prime[1] = False\n",
        "\n",
        "  # Use the Sieve of Eratosthenes to mark non-prime numbers.\n",
        "  for p in range(2, int(n**0.5) + 1):\n",
        "    if is_prime[p]:\n",
        "      for i in range(p * p, n + 1, p):\n",
        "        is_prime[i] = False\n",
        "\n",
        "  # Return the list of prime numbers using list comprehension\n",
        "  return [i for i, isPrime in enumerate(is_prime) if isPrime]"
      ],
      "metadata": {
        "id": "1rnWbU86jXUo"
      },
      "execution_count": 11,
      "outputs": []
    },
    {
      "cell_type": "code",
      "source": [
        "# Example usage\n",
        "limit = 100\n",
        "primes = generate_primes(limit)\n",
        "print(primes)"
      ],
      "metadata": {
        "colab": {
          "base_uri": "https://localhost:8080/"
        },
        "id": "G0qydBpKja1t",
        "outputId": "e17c8fb3-92ef-4225-900f-3a9b08f8bbba"
      },
      "execution_count": 12,
      "outputs": [
        {
          "output_type": "stream",
          "name": "stdout",
          "text": [
            "[2, 3, 5, 7, 11, 13, 17, 19, 23, 29, 31, 37, 41, 43, 47, 53, 59, 61, 67, 71, 73, 79, 83, 89, 97]\n"
          ]
        }
      ]
    },
    {
      "cell_type": "markdown",
      "source": [
        "32. Create a program that generates a list of all Pythagorean triplets up to a specified limit using list comprehension."
      ],
      "metadata": {
        "id": "3lAj2uvIjpkc"
      }
    },
    {
      "cell_type": "code",
      "source": [
        "def generate_pythagorean_triplets(limit):\n",
        "  \"\"\"Generates a list of Pythagorean triplets (a, b, c) up to a specified limit.\n",
        "\n",
        "  Args:\n",
        "    limit: The upper limit for the value of c in the triplets.\n",
        "\n",
        "  Returns:\n",
        "    A list of Pythagorean triplets as tuples (a, b, c).\n",
        "  \"\"\"\n",
        "  return [(a, b, c)\n",
        "            for a in range(1, limit)\n",
        "            for b in range(a, limit)\n",
        "            for c in range(b, limit)\n",
        "            if a * a + b * b == c * c]"
      ],
      "metadata": {
        "id": "8d-kw69UjvW8"
      },
      "execution_count": 13,
      "outputs": []
    },
    {
      "cell_type": "code",
      "source": [
        "# Example usage\n",
        "limit = 30\n",
        "triplets = generate_pythagorean_triplets(limit)\n",
        "print(f\"Pythagorean triplets up to {limit}:\")\n",
        "for triplet in triplets:\n",
        "    print(triplet)"
      ],
      "metadata": {
        "colab": {
          "base_uri": "https://localhost:8080/"
        },
        "id": "QYXIN1wtkNZx",
        "outputId": "1e2bdea5-e6c6-420a-a0b8-076d00cfcc04"
      },
      "execution_count": 14,
      "outputs": [
        {
          "output_type": "stream",
          "name": "stdout",
          "text": [
            "Pythagorean triplets up to 30:\n",
            "(3, 4, 5)\n",
            "(5, 12, 13)\n",
            "(6, 8, 10)\n",
            "(7, 24, 25)\n",
            "(8, 15, 17)\n",
            "(9, 12, 15)\n",
            "(10, 24, 26)\n",
            "(12, 16, 20)\n",
            "(15, 20, 25)\n",
            "(20, 21, 29)\n"
          ]
        }
      ]
    },
    {
      "cell_type": "markdown",
      "source": [
        "33. Develop a program that generates a list of all possible combinations of two lists using list comprehension."
      ],
      "metadata": {
        "id": "bLwxWELEk4Gk"
      }
    },
    {
      "cell_type": "code",
      "source": [
        "def generate_combinations(list1, list2):\n",
        "  \"\"\"Generates a list of all possible combinations of elements from two lists.\n",
        "\n",
        "  Args:\n",
        "    list1: The first list.\n",
        "    list2: The second list.\n",
        "\n",
        "  Returns:\n",
        "    A list of tuples containing elements from both lists.\n",
        "  \"\"\"\n",
        "  return [(x, y) for x in list1 for y in list2]"
      ],
      "metadata": {
        "id": "bHHrYAozlC-M"
      },
      "execution_count": 15,
      "outputs": []
    },
    {
      "cell_type": "code",
      "source": [
        "list_a = [\"a\", \"b\", \"c\"]\n",
        "list_b = [1, 2, 3]\n",
        "combinations = generate_combinations(list_a, list_b)\n",
        "print(combinations)"
      ],
      "metadata": {
        "colab": {
          "base_uri": "https://localhost:8080/"
        },
        "id": "8fx0Mpm4lD_j",
        "outputId": "f0a23abf-d3b7-4671-cbbc-b12d189e84e9"
      },
      "execution_count": 16,
      "outputs": [
        {
          "output_type": "stream",
          "name": "stdout",
          "text": [
            "[('a', 1), ('a', 2), ('a', 3), ('b', 1), ('b', 2), ('b', 3), ('c', 1), ('c', 2), ('c', 3)]\n"
          ]
        }
      ]
    },
    {
      "cell_type": "markdown",
      "source": [
        "34. Write a program that calculates the mean, median, and mode of a list of numbers using list comprehension."
      ],
      "metadata": {
        "id": "OlHbQn_oldVM"
      }
    },
    {
      "cell_type": "code",
      "source": [
        "from collections import Counter\n",
        "\n",
        "def calculate_statistics(data):\n",
        "  \"\"\"Calculates the mean, median, and mode of a list of numbers using list comprehension.\n",
        "\n",
        "  Args:\n",
        "    data: A list of numbers.\n",
        "\n",
        "  Returns:\n",
        "    A dictionary containing the mean, median, and mode of the data.\n",
        "  \"\"\"\n",
        "\n",
        "  # Check for empty list\n",
        "  if not data:\n",
        "    return {}\n",
        "\n",
        "  # Mean\n",
        "  mean = sum(data) / len(data)\n",
        "\n",
        "  # Sort the data for median and mode calculations (modifies original list)\n",
        "  data.sort()\n",
        "\n",
        "  # Median\n",
        "  median_index = len(data) // 2\n",
        "  median = (data[median_index] + data[median_index - 1]) / 2 if len(data) % 2 == 0 else data[median_index]\n",
        "\n",
        "  # Mode (using Counter and list comprehension)\n",
        "  mode_counts = Counter(data)\n",
        "  most_frequent_count = mode_counts.most_common(1)[0][1]  # Count of the most frequent element(s)\n",
        "  mode = [num for num, count in mode_counts.items() if count == most_frequent_count]\n",
        "\n",
        "  return {\"mean\": mean, \"median\": median, \"mode\": mode}"
      ],
      "metadata": {
        "id": "Fg6htDrulicR"
      },
      "execution_count": 20,
      "outputs": []
    },
    {
      "cell_type": "code",
      "source": [
        "# Example usage\n",
        "data = [1, 2, 3, 4, 5, 5, 6]\n",
        "statistics = calculate_statistics(data)\n",
        "print(statistics)"
      ],
      "metadata": {
        "colab": {
          "base_uri": "https://localhost:8080/"
        },
        "id": "Y1WKigjjmC0L",
        "outputId": "f8fa1f02-096c-4597-93a8-5bdd431efa5f"
      },
      "execution_count": 21,
      "outputs": [
        {
          "output_type": "stream",
          "name": "stdout",
          "text": [
            "{'mean': 3.7142857142857144, 'median': 4, 'mode': [5]}\n"
          ]
        }
      ]
    },
    {
      "cell_type": "markdown",
      "source": [
        "35. Create a program that generates Pascal's triangle up to a specified number of rows using list comprehension."
      ],
      "metadata": {
        "id": "K2jq6wRrmeU0"
      }
    },
    {
      "cell_type": "code",
      "source": [
        "def generate_pascal_triangle(num_rows):\n",
        "  \"\"\"Generates Pascal's triangle up to a specified number of rows using list comprehension.\n",
        "\n",
        "  Args:\n",
        "    num_rows: The number of rows in the Pascal's triangle.\n",
        "\n",
        "  Returns:\n",
        "    A list of lists representing Pascal's triangle.\n",
        "  \"\"\"\n",
        "\n",
        "  triangle = [[1]]  # Base case: first row is always [1]\n",
        "\n",
        "  # Use nested list comprehension to generate subsequent rows\n",
        "  for i in range(1, num_rows):\n",
        "    row = [1]  # Start each row with 1\n",
        "    for j in range(1, i):\n",
        "      # Previous row elements at j and j-1 to calculate current element\n",
        "      row.append(triangle[i - 1][j] + triangle[i - 1][j - 1])\n",
        "    row.append(1)  # End each row with 1\n",
        "    triangle.append(row)\n",
        "\n",
        "  return triangle"
      ],
      "metadata": {
        "id": "ft4whtNvmmeF"
      },
      "execution_count": 22,
      "outputs": []
    },
    {
      "cell_type": "code",
      "source": [
        "num_rows = 6\n",
        "pascal_triangle = generate_pascal_triangle(num_rows)\n",
        "print(pascal_triangle)"
      ],
      "metadata": {
        "colab": {
          "base_uri": "https://localhost:8080/"
        },
        "id": "ItHYFtJ8mv6B",
        "outputId": "3e36a37d-4376-4cb4-c2c2-c3fb023e95d2"
      },
      "execution_count": 23,
      "outputs": [
        {
          "output_type": "stream",
          "name": "stdout",
          "text": [
            "[[1], [1, 1], [1, 2, 1], [1, 3, 3, 1], [1, 4, 6, 4, 1], [1, 5, 10, 10, 5, 1]]\n"
          ]
        }
      ]
    },
    {
      "cell_type": "markdown",
      "source": [
        "36. Develop a program that calculates the sum of the digits of a factorial of numbers from 1 to 5 using list comprehension."
      ],
      "metadata": {
        "id": "NG6vsXJ4nNXF"
      }
    },
    {
      "cell_type": "code",
      "source": [
        "def sum_of_digits_factorial(n):\n",
        "  \"\"\"Calculates the sum of the digits of the factorial of a non-negative integer.\n",
        "\n",
        "  Args:\n",
        "    n: The non-negative integer for which to calculate the factorial sum.\n",
        "\n",
        "  Returns:\n",
        "    The sum of the digits of the factorial of n.\n",
        "  \"\"\"\n",
        "\n",
        "    # Calculate the factorial using math.factorial\n",
        "  from math import factorial\n",
        "  fact = factorial(n)\n",
        "\n",
        "  # Convert the factorial to a string of digits\n",
        "  digits_str = str(fact)\n",
        "\n",
        "  # Use list comprehension to sum the digits (converting each digit to an int)\n",
        "  sum_of_digits = sum(int(digit) for digit in digits_str)\n",
        "\n",
        "  return sum_of_digits"
      ],
      "metadata": {
        "id": "W0eASZd6nQGH"
      },
      "execution_count": 26,
      "outputs": []
    },
    {
      "cell_type": "code",
      "source": [
        "# Calculate and print the sum of digits for factorials of 1 to 5\n",
        "for i in range(1, 6):\n",
        "  factorial_sum = sum_of_digits_factorial(i)\n",
        "  print(f\"Sum of digits of factorial({i}): {factorial_sum}\")"
      ],
      "metadata": {
        "colab": {
          "base_uri": "https://localhost:8080/"
        },
        "id": "l2-WJr5FndQd",
        "outputId": "139fba5a-b152-4858-f4a1-cd76e795b4dc"
      },
      "execution_count": 27,
      "outputs": [
        {
          "output_type": "stream",
          "name": "stdout",
          "text": [
            "Sum of digits of factorial(1): 1\n",
            "Sum of digits of factorial(2): 2\n",
            "Sum of digits of factorial(3): 6\n",
            "Sum of digits of factorial(4): 6\n",
            "Sum of digits of factorial(5): 3\n"
          ]
        }
      ]
    },
    {
      "cell_type": "markdown",
      "source": [
        "37. Write a program that finds the longest word in a sentence using list comprehension."
      ],
      "metadata": {
        "id": "8QtSMrCsnoUd"
      }
    },
    {
      "cell_type": "code",
      "source": [
        "def find_longest_word(sentence):\n",
        "  \"\"\"Finds the longest word in a sentence using list comprehension.\n",
        "\n",
        "  Args:\n",
        "    sentence: The sentence to search for the longest word.\n",
        "\n",
        "  Returns:\n",
        "    The longest word in the sentence.\n",
        "  \"\"\"\n",
        "\n",
        "  # Split the sentence into words and use list comprehension to find the word with the maximum length\n",
        "  return max(sentence.split(), key=len)"
      ],
      "metadata": {
        "id": "0-sP51A7nqKp"
      },
      "execution_count": 28,
      "outputs": []
    },
    {
      "cell_type": "code",
      "source": [
        "sentence = \"The quick brown fox jumps over the lazy dog\"\n",
        "longest_word = find_longest_word(sentence)\n",
        "print(f\"Longest word: {longest_word}\")"
      ],
      "metadata": {
        "colab": {
          "base_uri": "https://localhost:8080/"
        },
        "id": "UZyGeUq9n2El",
        "outputId": "c75c2fae-6b72-4a4e-fc06-b29ff2054ce7"
      },
      "execution_count": 32,
      "outputs": [
        {
          "output_type": "stream",
          "name": "stdout",
          "text": [
            "Longest word: quick\n"
          ]
        }
      ]
    },
    {
      "cell_type": "markdown",
      "source": [
        "38. Create a program that filters a list of strings to include only those with more than three vowels using list comprehension."
      ],
      "metadata": {
        "id": "rOxbCByVpDcM"
      }
    },
    {
      "cell_type": "code",
      "source": [
        "def filter_vowels(words):\n",
        "  \"\"\"Filters a list of words to include only those with more than three vowels.\n",
        "\n",
        "  Args:\n",
        "    words: A list of strings (words).\n",
        "\n",
        "  Returns:\n",
        "    A list of strings containing only those with more than three vowels.\n",
        "  \"\"\"\n",
        "  vowels = \"aeiouAEIOU\"\n",
        "  return [word for word in words if sum(c in vowels for c in word) > 3]"
      ],
      "metadata": {
        "id": "5S444y9ApIpY"
      },
      "execution_count": 47,
      "outputs": []
    },
    {
      "cell_type": "code",
      "source": [
        "words = [\"apple\", \"banana\", \"apricot\", \"television\", \"programmer\", \"elderberry\", \"ADIEU\"]\n",
        "words_with_many_vowels = filter_vowels(words)\n",
        "print(words_with_many_vowels)"
      ],
      "metadata": {
        "colab": {
          "base_uri": "https://localhost:8080/"
        },
        "id": "Xi69XIbbpZ-i",
        "outputId": "ff07575a-dd12-4262-f23c-ef96ba8c4c4f"
      },
      "execution_count": 50,
      "outputs": [
        {
          "output_type": "stream",
          "name": "stdout",
          "text": [
            "['television', 'ADIEU']\n"
          ]
        }
      ]
    },
    {
      "cell_type": "markdown",
      "source": [
        "39. Develop a program that calculates the sum of the digits of numbers from 1 to 1000 using list comprehension."
      ],
      "metadata": {
        "id": "kIhF2Yt4sgI8"
      }
    },
    {
      "cell_type": "code",
      "source": [
        "def sum_of_digits_1_to_1000():\n",
        "  \"\"\"Calculates the sum of the digits of numbers from 1 to 1000 using list comprehension.\n",
        "\n",
        "  Returns:\n",
        "    The sum of the digits of numbers from 1 to 1000.\n",
        "  \"\"\"\n",
        "\n",
        "  # Use list comprehension to create a list of digits from each number (1 to 1000)\n",
        "  digits = [int(d) for num in range(1, 1001) for d in str(num)]\n",
        "\n",
        "  # Calculate the sum of all digits\n",
        "  sum_of_digits = sum(digits)\n",
        "\n",
        "  return sum_of_digits"
      ],
      "metadata": {
        "id": "3vx4J3v5shmf"
      },
      "execution_count": 51,
      "outputs": []
    },
    {
      "cell_type": "code",
      "source": [
        "# Calculate and print the sum of digits\n",
        "sum_digits = sum_of_digits_1_to_1000()\n",
        "print(sum_digits)"
      ],
      "metadata": {
        "colab": {
          "base_uri": "https://localhost:8080/"
        },
        "id": "6eWqgsr4ssEj",
        "outputId": "5985b8e3-9439-4ebd-9101-e241ecc6f143"
      },
      "execution_count": 52,
      "outputs": [
        {
          "output_type": "stream",
          "name": "stdout",
          "text": [
            "13501\n"
          ]
        }
      ]
    },
    {
      "cell_type": "markdown",
      "source": [
        "40. Write a program that generates a list of prime palindromic numbers using list comprehension."
      ],
      "metadata": {
        "id": "CSN0D6Mos_O1"
      }
    },
    {
      "cell_type": "code",
      "source": [
        "def is_prime(num):\n",
        "  \"\"\"Checks if a number is prime (greater than 1 and only divisible by 1 and itself).\n",
        "\n",
        "  Args:\n",
        "    num: The number to check for primality.\n",
        "\n",
        "  Returns:\n",
        "    True if the number is prime, False otherwise.\n",
        "  \"\"\"\n",
        "  if num <= 1:\n",
        "    return False\n",
        "  for i in range(2, int(num**0.5) + 1):\n",
        "    if num % i == 0:\n",
        "      return False\n",
        "  return True\n",
        "\n",
        "def is_palindrome(num):\n",
        "  \"\"\"Checks if a number is a palindrome (reads the same backward as forward).\n",
        "\n",
        "  Args:\n",
        "    num: The number to check for palindrome.\n",
        "\n",
        "  Returns:\n",
        "    True if the number is a palindrome, False otherwise.\n",
        "  \"\"\"\n",
        "  return str(num) == str(num)[::-1]"
      ],
      "metadata": {
        "id": "SQRiWDuytINO"
      },
      "execution_count": 54,
      "outputs": []
    },
    {
      "cell_type": "code",
      "source": [
        "# Generate prime palindromic numbers\n",
        "primes = [num for num in range(1, 1000) if is_prime(num) and is_palindrome(num)]\n",
        "\n",
        "# Print the prime palindromic numbers\n",
        "print(primes)"
      ],
      "metadata": {
        "colab": {
          "base_uri": "https://localhost:8080/"
        },
        "id": "b4lhfRaStVyG",
        "outputId": "2a5c39f8-e950-4c7f-85d4-82d54279b5f1"
      },
      "execution_count": 55,
      "outputs": [
        {
          "output_type": "stream",
          "name": "stdout",
          "text": [
            "[2, 3, 5, 7, 11, 101, 131, 151, 181, 191, 313, 353, 373, 383, 727, 757, 787, 797, 919, 929]\n"
          ]
        }
      ]
    },
    {
      "cell_type": "markdown",
      "source": [
        "21. Create a program that calculates the sum of the digits of numbers in a list using a list comprehension."
      ],
      "metadata": {
        "id": "yVBJRAdatpad"
      }
    },
    {
      "cell_type": "code",
      "source": [
        "def sum_of_digits(numbers):\n",
        "  \"\"\"Calculates the sum of digits for each number in a list using list comprehension.\n",
        "\n",
        "  Args:\n",
        "    numbers: A list of integers.\n",
        "\n",
        "  Returns:\n",
        "    A list containing the sum of digits for each number in the original list.\n",
        "  \"\"\"\n",
        "  return [sum(int(digit) for digit in str(num)) for num in numbers]"
      ],
      "metadata": {
        "id": "11GkGrXLtrGW"
      },
      "execution_count": 56,
      "outputs": []
    },
    {
      "cell_type": "code",
      "source": [
        "# Sample list of numbers\n",
        "numbers = [123, 456, 789, 1011]\n",
        "\n",
        "# Calculate the sum of digits for each number\n",
        "sum_of_digits_list = sum_of_digits(numbers)\n",
        "\n",
        "# Print the results\n",
        "print(sum_of_digits_list)"
      ],
      "metadata": {
        "colab": {
          "base_uri": "https://localhost:8080/"
        },
        "id": "BF1ZfB69vEvy",
        "outputId": "09084989-fb6a-4a12-89cd-69c7730bf557"
      },
      "execution_count": 57,
      "outputs": [
        {
          "output_type": "stream",
          "name": "stdout",
          "text": [
            "[6, 15, 24, 3]\n"
          ]
        }
      ]
    },
    {
      "cell_type": "markdown",
      "source": [
        "22. Write a program to find the prime factors of a given number using a `for` loop and list comprehension."
      ],
      "metadata": {
        "id": "4O7-CpvsvSR2"
      }
    },
    {
      "cell_type": "code",
      "source": [
        "def find_prime_factors(num):\n",
        "  \"\"\"Finds the prime factors of a given number using a for loop and list comprehension.\n",
        "\n",
        "  Args:\n",
        "    num: The number for which to find prime factors.\n",
        "\n",
        "  Returns:\n",
        "    A list containing the prime factors of the number.\n",
        "  \"\"\"\n",
        "\n",
        "  # Handle non-positive input\n",
        "  if num <= 1:\n",
        "    return []\n",
        "\n",
        "  # Prime factors list\n",
        "  prime_factors = []\n",
        "\n",
        "  # Loop through potential factors (up to the square root of num)\n",
        "  for i in range(2, int(num**0.5) + 1):\n",
        "    # Check if i is a divisor and prime\n",
        "    if num % i == 0 and is_prime(i):\n",
        "      prime_factors.append(i)\n",
        "      # Efficiently handle the case where the other factor is the same as i (perfect square)\n",
        "      num //= i  # Integer division to avoid float issues\n",
        "      if num == 1:\n",
        "        break\n",
        "\n",
        "  # If num is greater than 1 (a prime factor itself), append it\n",
        "  if num > 1:\n",
        "    prime_factors.append(num)\n",
        "\n",
        "  return prime_factors"
      ],
      "metadata": {
        "id": "Bg5-vo9aveT4"
      },
      "execution_count": 59,
      "outputs": []
    },
    {
      "cell_type": "code",
      "source": [
        "def is_prime(num):\n",
        "  \"\"\"Checks if a number is prime (greater than 1 and only divisible by 1 and itself).\n",
        "\n",
        "  Args:\n",
        "    num: The number to check for primality.\n",
        "\n",
        "  Returns:\n",
        "    True if the number is prime, False otherwise.\n",
        "  \"\"\"\n",
        "  if num <= 1:\n",
        "    return False\n",
        "  for i in range(2, int(num**0.5) + 1):\n",
        "    if num % i == 0:\n",
        "      return False\n",
        "  return True"
      ],
      "metadata": {
        "id": "b9waSk2cvj_u"
      },
      "execution_count": 60,
      "outputs": []
    },
    {
      "cell_type": "code",
      "source": [
        "number = 60\n",
        "prime_factors_list = find_prime_factors(number)\n",
        "print(f\"Prime factors of {number}: {prime_factors_list}\")"
      ],
      "metadata": {
        "colab": {
          "base_uri": "https://localhost:8080/"
        },
        "id": "cAyERseHvmSi",
        "outputId": "995c0d8c-de6c-4888-d505-548a9d0148b7"
      },
      "execution_count": 61,
      "outputs": [
        {
          "output_type": "stream",
          "name": "stdout",
          "text": [
            "Prime factors of 60: [2, 3, 5, 2]\n"
          ]
        }
      ]
    },
    {
      "cell_type": "markdown",
      "source": [
        "23. Develop a program that extracts unique elements from a list and stores them in a new list using a list comprehension."
      ],
      "metadata": {
        "id": "70IJySIzvs0-"
      }
    },
    {
      "cell_type": "code",
      "source": [
        "def extract_unique(data):\n",
        "  \"\"\"Extracts unique elements from a list using list comprehension.\n",
        "\n",
        "  Args:\n",
        "    data: A list of elements.\n",
        "\n",
        "  Returns:\n",
        "    A list containing only the unique elements from the input list.\n",
        "  \"\"\"\n",
        "\n",
        "  return list(set(data))  # Efficiently uses set for uniqueness and converts back to list"
      ],
      "metadata": {
        "id": "hY3O8Ef3vx2X"
      },
      "execution_count": 62,
      "outputs": []
    },
    {
      "cell_type": "code",
      "source": [
        "# Sample data list\n",
        "data = [1, 2, 3, 2, 4, 5, 1, 6, 7, 1, 2, 8, 9, 2, 3, 4]\n",
        "\n",
        "# Extract unique elements\n",
        "unique_data = extract_unique(data)\n",
        "\n",
        "# Print the original and unique lists\n",
        "print(f\"Original data: {data}\")\n",
        "print(f\"Unique elements: {unique_data}\")"
      ],
      "metadata": {
        "colab": {
          "base_uri": "https://localhost:8080/"
        },
        "id": "LZ_vNyGOv5MZ",
        "outputId": "16995d6f-3dbd-41d1-9342-430aa4506f78"
      },
      "execution_count": 64,
      "outputs": [
        {
          "output_type": "stream",
          "name": "stdout",
          "text": [
            "Original data: [1, 2, 3, 2, 4, 5, 1, 6, 7, 1, 2, 8, 9, 2, 3, 4]\n",
            "Unique elements: [1, 2, 3, 4, 5, 6, 7, 8, 9]\n"
          ]
        }
      ]
    },
    {
      "cell_type": "markdown",
      "source": [
        "24. Create a program that generates a list of all palindromic numbers up to a specified limit using a list comprehension."
      ],
      "metadata": {
        "id": "q8zpAuiGwiiP"
      }
    },
    {
      "cell_type": "code",
      "source": [
        "def generate_palindromes(limit):\n",
        "  \"\"\"Generates a list of all palindromic numbers up to a specified limit using list comprehension.\n",
        "\n",
        "  Args:\n",
        "    limit: The upper limit for palindromic numbers (inclusive).\n",
        "\n",
        "  Returns:\n",
        "    A list containing all palindromic numbers up to the limit.\n",
        "  \"\"\"\n",
        "\n",
        "  # Use list comprehension to create palindromes from 1 to limit\n",
        "  return [num for num in range(1, limit + 1) if str(num) == str(num)[::-1]]"
      ],
      "metadata": {
        "id": "GXJ-EUQPv8D-"
      },
      "execution_count": 65,
      "outputs": []
    },
    {
      "cell_type": "code",
      "source": [
        "# Set the limit\n",
        "limit = 100"
      ],
      "metadata": {
        "id": "7qWg8mHWwaRK"
      },
      "execution_count": 66,
      "outputs": []
    },
    {
      "cell_type": "code",
      "source": [
        "# Generate palindromic numbers\n",
        "palindromes = generate_palindromes(limit)"
      ],
      "metadata": {
        "id": "cuzz2MspwcQW"
      },
      "execution_count": 67,
      "outputs": []
    },
    {
      "cell_type": "code",
      "source": [
        "# Print the palindromic numbers\n",
        "print(f\"Palindromic numbers up to {limit}: {palindromes}\")"
      ],
      "metadata": {
        "colab": {
          "base_uri": "https://localhost:8080/"
        },
        "id": "OA_s2kPjwfZC",
        "outputId": "85bb40c4-3fdd-43b5-a774-f7f85ef13166"
      },
      "execution_count": 68,
      "outputs": [
        {
          "output_type": "stream",
          "name": "stdout",
          "text": [
            "Palindromic numbers up to 100: [1, 2, 3, 4, 5, 6, 7, 8, 9, 11, 22, 33, 44, 55, 66, 77, 88, 99]\n"
          ]
        }
      ]
    },
    {
      "cell_type": "markdown",
      "source": [
        "25. Write a program to flatten a nested list using list comprehension."
      ],
      "metadata": {
        "id": "io1lYhd4woVm"
      }
    },
    {
      "cell_type": "code",
      "source": [
        "def flatten_list(nested_list):\n",
        "  \"\"\"Flattens a nested list using list comprehension.\n",
        "\n",
        "  Args:\n",
        "    nested_list: A list that may contain nested elements (sublists).\n",
        "\n",
        "  Returns:\n",
        "    A new list containing all elements from the nested list in a single level.\n",
        "  \"\"\"\n",
        "\n",
        "  return [item for sublist in nested_list for item in sublist]"
      ],
      "metadata": {
        "id": "8HhgHJ1zxVOm"
      },
      "execution_count": 69,
      "outputs": []
    },
    {
      "cell_type": "code",
      "source": [
        "# Sample nested list\n",
        "nested_list = [[1, 2, 3], [4, 5, 6], [7]]"
      ],
      "metadata": {
        "id": "bOko0EfSxcGh"
      },
      "execution_count": 70,
      "outputs": []
    },
    {
      "cell_type": "code",
      "source": [
        "# Flatten the nested list\n",
        "flat_list = flatten_list(nested_list)"
      ],
      "metadata": {
        "id": "Ipzxp5RFxe42"
      },
      "execution_count": 71,
      "outputs": []
    },
    {
      "cell_type": "code",
      "source": [
        "# Print the original and flattened lists\n",
        "print(f\"Original nested list: {nested_list}\")\n",
        "print(f\"Flattened list: {flat_list}\")"
      ],
      "metadata": {
        "colab": {
          "base_uri": "https://localhost:8080/"
        },
        "id": "oK1ArYttxgqZ",
        "outputId": "d83f824a-e972-4b8c-df17-649caff66702"
      },
      "execution_count": 72,
      "outputs": [
        {
          "output_type": "stream",
          "name": "stdout",
          "text": [
            "Original nested list: [[1, 2, 3], [4, 5, 6], [7]]\n",
            "Flattened list: [1, 2, 3, 4, 5, 6, 7]\n"
          ]
        }
      ]
    },
    {
      "cell_type": "markdown",
      "source": [
        "26. Develop a program that computes the sum of even and odd numbers in a list separately using list comprehension."
      ],
      "metadata": {
        "id": "qgrcdTboxmVt"
      }
    },
    {
      "cell_type": "code",
      "source": [
        "def even_odd_sum(numbers):\n",
        "  \"\"\"Calculates the sum of even and odd numbers in a list using list comprehension.\n",
        "\n",
        "  Args:\n",
        "    numbers: A list of integers.\n",
        "\n",
        "  Returns:\n",
        "    A tuple containing the sum of even numbers and the sum of odd numbers.\n",
        "  \"\"\"\n",
        "\n",
        "  # Separate even and odd numbers using list comprehension\n",
        "  even_numbers = [num for num in numbers if num % 2 == 0]\n",
        "  odd_numbers = [num for num in numbers if num % 2 != 0]\n",
        "\n",
        "  # Calculate the sum of even and odd numbers\n",
        "  sum_even = sum(even_numbers)\n",
        "  sum_odd = sum(odd_numbers)\n",
        "\n",
        "  return sum_even, sum_odd"
      ],
      "metadata": {
        "id": "tU2UXRo-xqvf"
      },
      "execution_count": 73,
      "outputs": []
    },
    {
      "cell_type": "code",
      "source": [
        "# Sample list of numbers\n",
        "numbers = [1, 2, 3, 4, 5, 6, 7, 8, 9, 10]"
      ],
      "metadata": {
        "id": "vOclQQ9axyf_"
      },
      "execution_count": 74,
      "outputs": []
    },
    {
      "cell_type": "code",
      "source": [
        "# Calculate sum of even and odd numbers\n",
        "even_sum, odd_sum = even_odd_sum(numbers)"
      ],
      "metadata": {
        "id": "3FOTq5h7x0xA"
      },
      "execution_count": 75,
      "outputs": []
    },
    {
      "cell_type": "code",
      "source": [
        "# Print the results\n",
        "print(f\"Sum of even numbers: {even_sum}\")\n",
        "print(f\"Sum of odd numbers: {odd_sum}\")"
      ],
      "metadata": {
        "colab": {
          "base_uri": "https://localhost:8080/"
        },
        "id": "sYoB_GoXx2mh",
        "outputId": "5f9f5107-9e2b-474c-bdb3-baf9c664c362"
      },
      "execution_count": 76,
      "outputs": [
        {
          "output_type": "stream",
          "name": "stdout",
          "text": [
            "Sum of even numbers: 30\n",
            "Sum of odd numbers: 25\n"
          ]
        }
      ]
    },
    {
      "cell_type": "markdown",
      "source": [
        "27. Create a program that generates a list of squares of odd numbers between 1 and 10 using list comprehension."
      ],
      "metadata": {
        "id": "xGMnwEyjyPLn"
      }
    },
    {
      "cell_type": "code",
      "source": [
        "# Generate squares of odd numbers between 1 and 10 using list comprehension\n",
        "squares_of_odds = [n ** 2 for n in range(1, 11) if n % 2 != 0]"
      ],
      "metadata": {
        "id": "UR8UK5Znx4er"
      },
      "execution_count": 77,
      "outputs": []
    },
    {
      "cell_type": "code",
      "source": [
        "# Print the result\n",
        "print(\"Squares of odd numbers between 1 and 10:\")\n",
        "print(squares_of_odds)"
      ],
      "metadata": {
        "colab": {
          "base_uri": "https://localhost:8080/"
        },
        "id": "ofYG2-ClyLjP",
        "outputId": "b6562990-3ae1-48c3-8704-b01549594cf3"
      },
      "execution_count": 78,
      "outputs": [
        {
          "output_type": "stream",
          "name": "stdout",
          "text": [
            "Squares of odd numbers between 1 and 10:\n",
            "[1, 9, 25, 49, 81]\n"
          ]
        }
      ]
    },
    {
      "cell_type": "markdown",
      "source": [
        "28. Write a program that combines two lists into a dictionary using list comprehension."
      ],
      "metadata": {
        "id": "A5529anUydnX"
      }
    },
    {
      "cell_type": "code",
      "source": [
        "def combine_lists_to_dict(keys, values):\n",
        "  \"\"\"Combines two lists into a dictionary using list comprehension.\n",
        "\n",
        "  Args:\n",
        "    keys: A list of keys.\n",
        "    values: A list of values.\n",
        "\n",
        "  Returns:\n",
        "    A dictionary combining the keys and values.\n",
        "\n",
        "  Raises:\n",
        "    ValueError: If the lengths of the lists are unequal.\n",
        "  \"\"\"\n",
        "\n",
        "  # Check if lengths are equal (necessary for dictionary creation)\n",
        "  if len(keys) != len(values):\n",
        "    raise ValueError(\"Keys and values lists must have equal lengths\")\n",
        "\n",
        "  # Combine lists into dictionary using list comprehension\n",
        "  return {key: value for key, value in zip(keys, values)}"
      ],
      "metadata": {
        "id": "ldq13ojtyfFq"
      },
      "execution_count": 79,
      "outputs": []
    },
    {
      "cell_type": "code",
      "source": [
        "# Sample lists\n",
        "keys = [\"name\", \"age\", \"city\"]\n",
        "values = [\"Alice\", 26, \"Amsterdam\"]"
      ],
      "metadata": {
        "id": "71PaN_45yscy"
      },
      "execution_count": 94,
      "outputs": []
    },
    {
      "cell_type": "code",
      "source": [
        "# Combine lists into a dictionary\n",
        "combined_dict = combine_lists_to_dict(keys, values)"
      ],
      "metadata": {
        "id": "ektbzjoDyuOf"
      },
      "execution_count": 95,
      "outputs": []
    },
    {
      "cell_type": "code",
      "source": [
        "# Print the dictionary\n",
        "print(combined_dict)"
      ],
      "metadata": {
        "colab": {
          "base_uri": "https://localhost:8080/"
        },
        "id": "eSZ0xwluywVq",
        "outputId": "2feb42fb-3833-4d93-efac-fe99c96f0a38"
      },
      "execution_count": 96,
      "outputs": [
        {
          "output_type": "stream",
          "name": "stdout",
          "text": [
            "{'name': 'Alice', 'age': 26, 'city': 'Amsterdam'}\n"
          ]
        }
      ]
    },
    {
      "cell_type": "markdown",
      "source": [
        "29. Develop a program that extracts the vowels from a string and stores them in a list using list comprehension."
      ],
      "metadata": {
        "id": "G7mJKbz-y5Zl"
      }
    },
    {
      "cell_type": "code",
      "source": [
        "def extract_vowels(text):\n",
        "  \"\"\"Extracts vowels from a string using list comprehension.\n",
        "\n",
        "  Args:\n",
        "    text: The string to extract vowels from.\n",
        "\n",
        "  Returns:\n",
        "    A list containing only the vowels from the input string.\n",
        "  \"\"\"\n",
        "\n",
        "  vowels = \"aeiouAEIOU\"\n",
        "  return [char for char in text if char in vowels]"
      ],
      "metadata": {
        "id": "fa3oobF4y8rr"
      },
      "execution_count": 83,
      "outputs": []
    },
    {
      "cell_type": "code",
      "source": [
        "# Sample string\n",
        "text = \"Chesse cake carving!\""
      ],
      "metadata": {
        "id": "Pk8h2BYHzKAh"
      },
      "execution_count": 88,
      "outputs": []
    },
    {
      "cell_type": "code",
      "source": [
        "# Extract vowels\n",
        "extracted_vowels = extract_vowels(text)"
      ],
      "metadata": {
        "id": "8i5pvEjszOpD"
      },
      "execution_count": 89,
      "outputs": []
    },
    {
      "cell_type": "code",
      "source": [
        "# Print the extracted vowels\n",
        "print(extracted_vowels)"
      ],
      "metadata": {
        "colab": {
          "base_uri": "https://localhost:8080/"
        },
        "id": "LNuO52YGzQeG",
        "outputId": "53f3631b-046b-4ebc-876c-d1b4fe07afbf"
      },
      "execution_count": 90,
      "outputs": [
        {
          "output_type": "stream",
          "name": "stdout",
          "text": [
            "['e', 'e', 'a', 'e', 'a', 'i']\n"
          ]
        }
      ]
    },
    {
      "cell_type": "markdown",
      "source": [
        "30. Create a program that removes all non-numeric characters from a list of strings using list comprehension."
      ],
      "metadata": {
        "id": "xnves9P4zmZu"
      }
    },
    {
      "cell_type": "code",
      "source": [
        "def remove_non_numeric(strings):\n",
        "  \"\"\"Removes all non-numeric characters from a list of strings using list comprehension.\n",
        "\n",
        "  Args:\n",
        "    strings: A list of strings.\n",
        "\n",
        "  Returns:\n",
        "    A list containing only the numeric parts of the input strings.\n",
        "  \"\"\"\n",
        "\n",
        "  return [''.join(char for char in string if char.isdigit()) for string in strings]"
      ],
      "metadata": {
        "id": "tEnt4nQazqEH"
      },
      "execution_count": 97,
      "outputs": []
    },
    {
      "cell_type": "code",
      "source": [
        "# Sample list of strings\n",
        "strings = [\"Hello, 123 World!\", \"456\", \"Python 3.10\", \"789!\"]"
      ],
      "metadata": {
        "id": "1Kqudgov0LMj"
      },
      "execution_count": 98,
      "outputs": []
    },
    {
      "cell_type": "code",
      "source": [
        "# Remove non-numeric characters\n",
        "numeric_parts = remove_non_numeric(strings)"
      ],
      "metadata": {
        "id": "Gl-1UWbm0Nwr"
      },
      "execution_count": 99,
      "outputs": []
    },
    {
      "cell_type": "code",
      "source": [
        "# Print the results\n",
        "print(numeric_parts)"
      ],
      "metadata": {
        "colab": {
          "base_uri": "https://localhost:8080/"
        },
        "id": "l_CBcoaB0Qiw",
        "outputId": "4f169224-ea81-4596-c3d1-ce4ed322d4de"
      },
      "execution_count": 100,
      "outputs": [
        {
          "output_type": "stream",
          "name": "stdout",
          "text": [
            "['123', '456', '310', '789']\n"
          ]
        }
      ]
    },
    {
      "cell_type": "markdown",
      "source": [
        "11. Write a program to check if a given list contains any duplicates using a `for` loop."
      ],
      "metadata": {
        "id": "N2PRDlaa0cs-"
      }
    },
    {
      "cell_type": "code",
      "source": [
        "def has_duplicates(data):\n",
        "  \"\"\"Checks if a list contains any duplicates using a for loop.\n",
        "\n",
        "  Args:\n",
        "    data: A list of elements.\n",
        "\n",
        "  Returns:\n",
        "    True if the list contains duplicates, False otherwise.\n",
        "  \"\"\"\n",
        "  seen = set()\n",
        "  for element in data:\n",
        "    if element in seen:\n",
        "      return True\n",
        "    seen.add(element)\n",
        "  return False"
      ],
      "metadata": {
        "id": "brKHPFzp0gZS"
      },
      "execution_count": 101,
      "outputs": []
    },
    {
      "cell_type": "code",
      "source": [
        "# Sample data list\n",
        "data = [1, 2, 3, 2, 4, 5]"
      ],
      "metadata": {
        "id": "ZORErcWT0mSz"
      },
      "execution_count": 102,
      "outputs": []
    },
    {
      "cell_type": "code",
      "source": [
        "# Check for duplicates\n",
        "has_duplicates_result = has_duplicates(data)"
      ],
      "metadata": {
        "id": "U-8j57yk0pUz"
      },
      "execution_count": 103,
      "outputs": []
    },
    {
      "cell_type": "code",
      "source": [
        "# Print the result\n",
        "print(f\"List contains duplicates: {has_duplicates_result}\")"
      ],
      "metadata": {
        "colab": {
          "base_uri": "https://localhost:8080/"
        },
        "id": "qMmpXwIO0rnr",
        "outputId": "c39fc1fb-cf1b-4c59-c838-a0096abfac70"
      },
      "execution_count": 104,
      "outputs": [
        {
          "output_type": "stream",
          "name": "stdout",
          "text": [
            "List contains duplicates: True\n"
          ]
        }
      ]
    },
    {
      "cell_type": "markdown",
      "source": [
        "12. Create a program that prints the prime numbers in a given range using a `for` loop."
      ],
      "metadata": {
        "id": "eTYDXi3-0y4_"
      }
    },
    {
      "cell_type": "code",
      "source": [
        "def is_prime(num):\n",
        "  \"\"\"Checks if a number is prime (greater than 1 and only divisible by 1 and itself).\n",
        "\n",
        "  Args:\n",
        "    num: The number to check for primality.\n",
        "\n",
        "  Returns:\n",
        "    True if the number is prime, False otherwise.\n",
        "\"\"\"\n",
        "  if num <= 1:\n",
        "    return False\n",
        "  for i in range(2, int(num**0.5) + 1):\n",
        "    if num % i == 0:\n",
        "      return False\n",
        "  return True"
      ],
      "metadata": {
        "id": "PRio8K2r01pj"
      },
      "execution_count": 105,
      "outputs": []
    },
    {
      "cell_type": "code",
      "source": [
        "def find_primes(lower, upper):\n",
        "  \"\"\"Prints the prime numbers in a given range using a for loop.\n",
        "\n",
        "  Args:\n",
        "    lower: The lower bound of the range (inclusive).\n",
        "    upper: The upper bound of the range (inclusive).\n",
        "  \"\"\"\n",
        "  print(f\"Prime numbers between {lower} and {upper} are:\")\n",
        "  for num in range(lower, upper + 1):\n",
        "    if is_prime(num):\n",
        "      print(num)"
      ],
      "metadata": {
        "id": "4gTY5E0N0993"
      },
      "execution_count": 106,
      "outputs": []
    },
    {
      "cell_type": "code",
      "source": [
        "# Set the range of numbers\n",
        "lower_limit = 2\n",
        "upper_limit = 50"
      ],
      "metadata": {
        "id": "b9n1T-yW1AM_"
      },
      "execution_count": 107,
      "outputs": []
    },
    {
      "cell_type": "code",
      "source": [
        "# Find and print prime numbers\n",
        "find_primes(lower_limit, upper_limit)"
      ],
      "metadata": {
        "colab": {
          "base_uri": "https://localhost:8080/"
        },
        "id": "Frb8Gd9_1CJf",
        "outputId": "87542ed8-ae13-4ab1-894e-26ba6d3903e5"
      },
      "execution_count": 108,
      "outputs": [
        {
          "output_type": "stream",
          "name": "stdout",
          "text": [
            "Prime numbers between 2 and 50 are:\n",
            "2\n",
            "3\n",
            "5\n",
            "7\n",
            "11\n",
            "13\n",
            "17\n",
            "19\n",
            "23\n",
            "29\n",
            "31\n",
            "37\n",
            "41\n",
            "43\n",
            "47\n"
          ]
        }
      ]
    },
    {
      "cell_type": "markdown",
      "source": [
        "13. Develop a program that counts the number of vowels in a string using a `for` loop."
      ],
      "metadata": {
        "id": "UUQxCWKJ1HJc"
      }
    },
    {
      "cell_type": "code",
      "source": [
        "def count_vowels(text):\n",
        "  \"\"\"Counts the number of vowels in a string using a for loop.\n",
        "\n",
        "  Args:\n",
        "    text: The string to count vowels in.\n",
        "\n",
        "  Returns:\n",
        "    The number of vowels found in the string.\n",
        "  \"\"\"\n",
        "\n",
        "  vowels = \"aeiouAEIOU\"\n",
        "  vowel_count = 0\n",
        "  for char in text:\n",
        "    if char in vowels:\n",
        "      vowel_count += 1\n",
        "  return vowel_count"
      ],
      "metadata": {
        "id": "h987ka_f1KRW"
      },
      "execution_count": 109,
      "outputs": []
    },
    {
      "cell_type": "code",
      "source": [
        "# Sample text\n",
        "text = \"Jazz, Music\""
      ],
      "metadata": {
        "id": "s_YiQ-Pr1RI-"
      },
      "execution_count": 116,
      "outputs": []
    },
    {
      "cell_type": "code",
      "source": [
        "# Count the vowels\n",
        "num_vowels = count_vowels(text)"
      ],
      "metadata": {
        "id": "jkUObFgM1Ta_"
      },
      "execution_count": 117,
      "outputs": []
    },
    {
      "cell_type": "code",
      "source": [
        "# Print the result\n",
        "print(f\"Number of vowels in '{text}': {num_vowels}\")"
      ],
      "metadata": {
        "colab": {
          "base_uri": "https://localhost:8080/"
        },
        "id": "ohn_1meC1VKP",
        "outputId": "9410e8f7-8eab-4f32-c559-75562f0e268d"
      },
      "execution_count": 118,
      "outputs": [
        {
          "output_type": "stream",
          "name": "stdout",
          "text": [
            "Number of vowels in 'Jazz, Music': 3\n"
          ]
        }
      ]
    },
    {
      "cell_type": "markdown",
      "source": [
        "14. Write a program to find the maximum element in a 2D list using a nested `for` loop."
      ],
      "metadata": {
        "id": "EJB8u9dW1lDO"
      }
    },
    {
      "cell_type": "code",
      "source": [
        "def find_max_in_2d_list(data):\n",
        "  \"\"\"Finds the maximum element in a 2D list using nested for loops.\n",
        "\n",
        "  Args:\n",
        "    data: A 2D list of elements.\n",
        "\n",
        "  Returns:\n",
        "    The maximum element found in the 2D list, or None if the list is empty.\n",
        "  \"\"\"\n",
        "\n",
        "  # Initialize max_value to handle empty lists or lists with non-numeric elements\n",
        "  max_value = None\n",
        "\n",
        "  for row in data:\n",
        "    for element in row:\n",
        "      # Check if element is numeric (avoid non-numeric comparisons)\n",
        "      if isinstance(element, (int, float)):\n",
        "        if max_value is None or element > max_value:\n",
        "          max_value = element\n",
        "\n",
        "  return max_value"
      ],
      "metadata": {
        "id": "cCpyh1MU1oUO"
      },
      "execution_count": 119,
      "outputs": []
    },
    {
      "cell_type": "code",
      "source": [
        "# Sample 2D list\n",
        "data = [[10, 5, 18], [2, 7, 1], [15, 20, 9]]"
      ],
      "metadata": {
        "id": "hVPahQMP1w8L"
      },
      "execution_count": 120,
      "outputs": []
    },
    {
      "cell_type": "code",
      "source": [
        "# Find the maximum element\n",
        "max_element = find_max_in_2d_list(data)"
      ],
      "metadata": {
        "id": "NTKy4hk_1zIg"
      },
      "execution_count": 121,
      "outputs": []
    },
    {
      "cell_type": "code",
      "source": [
        "# Print the result (handle cases where no numeric max is found)\n",
        "if max_element is not None:\n",
        "  print(f\"Maximum element in the 2D list: {max_element}\")\n",
        "else:\n",
        "  print(\"The 2D list does not contain any numeric elements.\")"
      ],
      "metadata": {
        "colab": {
          "base_uri": "https://localhost:8080/"
        },
        "id": "w_tkRdR511Af",
        "outputId": "44fc86f0-710a-4212-f259-ca57e8bb6d3c"
      },
      "execution_count": 122,
      "outputs": [
        {
          "output_type": "stream",
          "name": "stdout",
          "text": [
            "Maximum element in the 2D list: 20\n"
          ]
        }
      ]
    },
    {
      "cell_type": "markdown",
      "source": [
        "15. Create a program that removes all occurrences of a specific element from a list using a `for` loop."
      ],
      "metadata": {
        "id": "41ETXDz21-9D"
      }
    },
    {
      "cell_type": "code",
      "source": [
        "def remove_all(data, element):\n",
        "  \"\"\"Removes all occurrences of a specific element from a list using a for loop.\n",
        "\n",
        "  Args:\n",
        "    data: The list to modify (pass a copy to avoid unintended modification of the original list).\n",
        "    element: The element to remove.\n",
        "\n",
        "  Returns:\n",
        "    A new list with all occurrences of the element removed.\n",
        "  \"\"\"\n",
        "\n",
        "  # Create a new list to store the filtered elements (avoids modifying the original list)\n",
        "  filtered_list = []\n",
        "\n",
        "  for item in data:\n",
        "    # Add the item to the new list if it's not the element to remove\n",
        "    if item != element:\n",
        "      filtered_list.append(item)\n",
        "\n",
        "  return filtered_list"
      ],
      "metadata": {
        "id": "u3XmeV2J2DC2"
      },
      "execution_count": 123,
      "outputs": []
    },
    {
      "cell_type": "code",
      "source": [
        "# Sample list and element to remove\n",
        "data = [1, 2, 3, 2, 4, 5, 2]\n",
        "element_to_remove = 2"
      ],
      "metadata": {
        "id": "CWijIzey2Ig_"
      },
      "execution_count": 124,
      "outputs": []
    },
    {
      "cell_type": "code",
      "source": [
        "# Remove all occurrences of the element\n",
        "filtered_data = remove_all(data.copy(), element_to_remove)"
      ],
      "metadata": {
        "id": "vQ8DSZPi2Kck"
      },
      "execution_count": 125,
      "outputs": []
    },
    {
      "cell_type": "code",
      "source": [
        "# Print the original and filtered lists\n",
        "print(f\"Original list: {data}\")\n",
        "print(f\"List after removing {element_to_remove}: {filtered_data}\")"
      ],
      "metadata": {
        "colab": {
          "base_uri": "https://localhost:8080/"
        },
        "id": "MipN1I1s2PKP",
        "outputId": "d0055530-8b63-462e-ef8c-5a453af8679d"
      },
      "execution_count": 126,
      "outputs": [
        {
          "output_type": "stream",
          "name": "stdout",
          "text": [
            "Original list: [1, 2, 3, 2, 4, 5, 2]\n",
            "List after removing 2: [1, 3, 4, 5]\n"
          ]
        }
      ]
    },
    {
      "cell_type": "markdown",
      "source": [
        "16. Develop a program that generates a multiplication table for numbers from 1 to using a nested `for` loop."
      ],
      "metadata": {
        "id": "0skAulwn2Spv"
      }
    },
    {
      "cell_type": "code",
      "source": [
        "def multiplication_table(num):\n",
        "  \"\"\"Generates a multiplication table for a number using nested for loops.\n",
        "\n",
        "  Args:\n",
        "    num: The number for which to generate the multiplication table.\n",
        "  \"\"\"\n",
        "\n",
        "  # Loop through numbers from 1 to num\n",
        "  for i in range(1, num + 1):\n",
        "    # Print the table header for the current number\n",
        "    print(f\"Multiplication table for {i}:\")\n",
        "\n",
        "    # Inner loop to multiply with numbers from 1 to num\n",
        "    for j in range(1, num + 1):\n",
        "      # Calculate the product and print it in a formatted way\n",
        "      product = i * j\n",
        "      print(f\"{i} x {j} = {product}\")\n",
        "\n",
        "    # Print a separator line after each table\n",
        "    print(\"-\" * 15)"
      ],
      "metadata": {
        "id": "RUKi05Kn2Wcs"
      },
      "execution_count": 127,
      "outputs": []
    },
    {
      "cell_type": "code",
      "source": [
        "# Set the number for the multiplication table\n",
        "number = 5"
      ],
      "metadata": {
        "id": "tIY4dNMJ2eqv"
      },
      "execution_count": 128,
      "outputs": []
    },
    {
      "cell_type": "code",
      "source": [
        "# Generate and print the multiplication table\n",
        "multiplication_table(number)"
      ],
      "metadata": {
        "colab": {
          "base_uri": "https://localhost:8080/"
        },
        "id": "1IdaRvJc2gm4",
        "outputId": "61b1491b-bb24-435b-f004-0fcfce8f3b9b"
      },
      "execution_count": 129,
      "outputs": [
        {
          "output_type": "stream",
          "name": "stdout",
          "text": [
            "Multiplication table for 1:\n",
            "1 x 1 = 1\n",
            "1 x 2 = 2\n",
            "1 x 3 = 3\n",
            "1 x 4 = 4\n",
            "1 x 5 = 5\n",
            "---------------\n",
            "Multiplication table for 2:\n",
            "2 x 1 = 2\n",
            "2 x 2 = 4\n",
            "2 x 3 = 6\n",
            "2 x 4 = 8\n",
            "2 x 5 = 10\n",
            "---------------\n",
            "Multiplication table for 3:\n",
            "3 x 1 = 3\n",
            "3 x 2 = 6\n",
            "3 x 3 = 9\n",
            "3 x 4 = 12\n",
            "3 x 5 = 15\n",
            "---------------\n",
            "Multiplication table for 4:\n",
            "4 x 1 = 4\n",
            "4 x 2 = 8\n",
            "4 x 3 = 12\n",
            "4 x 4 = 16\n",
            "4 x 5 = 20\n",
            "---------------\n",
            "Multiplication table for 5:\n",
            "5 x 1 = 5\n",
            "5 x 2 = 10\n",
            "5 x 3 = 15\n",
            "5 x 4 = 20\n",
            "5 x 5 = 25\n",
            "---------------\n"
          ]
        }
      ]
    },
    {
      "cell_type": "markdown",
      "source": [
        "17. Write a program that converts a list of Fahrenheit temperatures to Celsius using a `for` loop."
      ],
      "metadata": {
        "id": "387EckxE2k5P"
      }
    },
    {
      "cell_type": "code",
      "source": [
        "def fahrenheit_to_celsius(fahrenheit_temps):\n",
        "  \"\"\"Converts a list of Fahrenheit temperatures to Celsius using a for loop.\n",
        "\n",
        "  Args:\n",
        "    fahrenheit_temps: A list of Fahrenheit temperatures.\n",
        "\n",
        "  Returns:\n",
        "    A new list containing the corresponding Celsius temperatures.\n",
        "  \"\"\"\n",
        "\n",
        "  celsius_temps = []\n",
        "  for fahrenheit in fahrenheit_temps:\n",
        "    # Conversion formula: Celsius = (Fahrenheit - 32) * 5/9\n",
        "    celsius = (fahrenheit - 32) * 5 / 9\n",
        "    celsius_temps.append(celsius)\n",
        "  return celsius_temps"
      ],
      "metadata": {
        "id": "yiCGy4wW2oOD"
      },
      "execution_count": 130,
      "outputs": []
    },
    {
      "cell_type": "code",
      "source": [
        "# Sample Fahrenheit temperatures\n",
        "fahrenheit_temps = [32, 50, 77, 100]"
      ],
      "metadata": {
        "id": "uDumo3nr2wFe"
      },
      "execution_count": 131,
      "outputs": []
    },
    {
      "cell_type": "code",
      "source": [
        "# Convert to Celsius\n",
        "celsius_temps = fahrenheit_to_celsius(fahrenheit_temps)"
      ],
      "metadata": {
        "id": "F3nwHuqF2ygj"
      },
      "execution_count": 132,
      "outputs": []
    },
    {
      "cell_type": "code",
      "source": [
        "# Print the results (Fahrenheit and Celsius temperatures)\n",
        "print(\"Fahrenheit:\", fahrenheit_temps)\n",
        "print(\"Celsius:\", celsius_temps)"
      ],
      "metadata": {
        "colab": {
          "base_uri": "https://localhost:8080/"
        },
        "id": "9xHTlKxZ2z_4",
        "outputId": "83a8b605-da53-4e8c-fd6d-393761348095"
      },
      "execution_count": 133,
      "outputs": [
        {
          "output_type": "stream",
          "name": "stdout",
          "text": [
            "Fahrenheit: [32, 50, 77, 100]\n",
            "Celsius: [0.0, 10.0, 25.0, 37.77777777777778]\n"
          ]
        }
      ]
    },
    {
      "cell_type": "markdown",
      "source": [
        "18. Create a program to print the common elements from two lists using a `for` loop."
      ],
      "metadata": {
        "id": "d3k_VwJN24cu"
      }
    },
    {
      "cell_type": "code",
      "source": [
        "def find_common_elements(list1, list2):\n",
        "  \"\"\"Prints the common elements between two lists using a for loop.\n",
        "\n",
        "  Args:\n",
        "    list1: The first list.\n",
        "    list2: The second list.\n",
        "  \"\"\"\n",
        "  common_elements = []\n",
        "  for element in list1:\n",
        "    if element in list2:\n",
        "      # Add the common element to the list if found in list2\n",
        "      common_elements.append(element)\n",
        "\n",
        "  # Print the common elements (if any)\n",
        "  if common_elements:\n",
        "    print(\"Common elements:\", common_elements)\n",
        "  else:\n",
        "    print(\"No common elements found between the lists.\")"
      ],
      "metadata": {
        "id": "5IlG9j6326VF"
      },
      "execution_count": 134,
      "outputs": []
    },
    {
      "cell_type": "code",
      "source": [
        "# Sample lists\n",
        "list1 = [1, 2, 3, 4, 5]\n",
        "list2 = [3, 5, 7, 9, 11]"
      ],
      "metadata": {
        "id": "sa8LCWiu2_2V"
      },
      "execution_count": 135,
      "outputs": []
    },
    {
      "cell_type": "code",
      "source": [
        "# Find and print common elements\n",
        "find_common_elements(list1, list2)"
      ],
      "metadata": {
        "colab": {
          "base_uri": "https://localhost:8080/"
        },
        "id": "9zN4dgZu3Cd8",
        "outputId": "37a20491-80b9-4ae2-c534-5e44ffe0845e"
      },
      "execution_count": 136,
      "outputs": [
        {
          "output_type": "stream",
          "name": "stdout",
          "text": [
            "Common elements: [3, 5]\n"
          ]
        }
      ]
    },
    {
      "cell_type": "markdown",
      "source": [
        "19. Develop a program that prints the pattern of right-angled triangles using a `for` loop. Use ‘*’ to draw the pattern."
      ],
      "metadata": {
        "id": "Pe6ozbjt3HLM"
      }
    },
    {
      "cell_type": "code",
      "source": [
        "def print_triangle_pattern(rows):\n",
        "  \"\"\"Prints a right-angled triangle pattern using '*' and a for loop.\n",
        "\n",
        "  Args:\n",
        "    rows: The number of rows for the triangle pattern.\n",
        "  \"\"\"\n",
        "  for i in range(1, rows + 1):\n",
        "    # Print '*' i times in each row (increasing number of stars)\n",
        "    print(\"*\" * i)"
      ],
      "metadata": {
        "id": "L-CFAKle3Lyv"
      },
      "execution_count": 137,
      "outputs": []
    },
    {
      "cell_type": "code",
      "source": [
        "# Set the number of rows for the pattern\n",
        "num_rows = 5"
      ],
      "metadata": {
        "id": "hHpTfis03VF_"
      },
      "execution_count": 138,
      "outputs": []
    },
    {
      "cell_type": "code",
      "source": [
        "# Print the triangle pattern\n",
        "print_triangle_pattern(num_rows)"
      ],
      "metadata": {
        "colab": {
          "base_uri": "https://localhost:8080/"
        },
        "id": "VflbFhfR3Wh7",
        "outputId": "9c22a2e3-cda5-435c-d6b1-976cedb4e776"
      },
      "execution_count": 139,
      "outputs": [
        {
          "output_type": "stream",
          "name": "stdout",
          "text": [
            "*\n",
            "**\n",
            "***\n",
            "****\n",
            "*****\n"
          ]
        }
      ]
    },
    {
      "cell_type": "markdown",
      "source": [
        "20. Write a program to find the greatest common divisor (GCD) of two numbers using a\n",
        "`for` loop."
      ],
      "metadata": {
        "id": "B3qf5o0e3but"
      }
    },
    {
      "cell_type": "code",
      "source": [
        "def gcd(a, b):\n",
        "  \"\"\"Calculates the greatest common divisor (GCD) of two numbers using a for loop.\n",
        "\n",
        "  Args:\n",
        "    a: The first number.\n",
        "    b: The second number.\n",
        "\n",
        "  Returns:\n",
        "    The greatest common divisor of a and b.\n",
        "  \"\"\"\n",
        "\n",
        "  # Handle cases where either number is 0\n",
        "  if a == 0 or b == 0:\n",
        "    return max(a, b)  # GCD of 0 and any number is the non-zero number\n",
        "\n",
        "  # Efficiently find GCD using a for loop (Euclidean algorithm)\n",
        "  while b != 0:\n",
        "    old_b = b\n",
        "    b = a % b  # Remainder of a divided by b becomes the new b\n",
        "    a = old_b  # Previous b becomes the new a\n",
        "\n",
        "  return a  # After the loop, a holds the GCD"
      ],
      "metadata": {
        "id": "VhutbkQX3eca"
      },
      "execution_count": 140,
      "outputs": []
    },
    {
      "cell_type": "code",
      "source": [
        "# Example numbers\n",
        "num1 = 18\n",
        "num2 = 30"
      ],
      "metadata": {
        "id": "GKIJhvlv3mrX"
      },
      "execution_count": 141,
      "outputs": []
    },
    {
      "cell_type": "code",
      "source": [
        "# Find the GCD\n",
        "greatest_common_divisor = gcd(num1, num2)"
      ],
      "metadata": {
        "id": "3IThJ-F13oi8"
      },
      "execution_count": 142,
      "outputs": []
    },
    {
      "cell_type": "code",
      "source": [
        "# Print the result\n",
        "print(f\"GCD of {num1} and {num2} is: {greatest_common_divisor}\")"
      ],
      "metadata": {
        "colab": {
          "base_uri": "https://localhost:8080/"
        },
        "id": "RL2RcjJ23qLA",
        "outputId": "c02b3477-2fbd-428e-d387-4cf062698a02"
      },
      "execution_count": 143,
      "outputs": [
        {
          "output_type": "stream",
          "name": "stdout",
          "text": [
            "GCD of 18 and 30 is: 6\n"
          ]
        }
      ]
    },
    {
      "cell_type": "markdown",
      "source": [
        "1. Write a Python program to print the numbers from 1 to 10 using a `for` loop."
      ],
      "metadata": {
        "id": "VPJ4GAgq3wln"
      }
    },
    {
      "cell_type": "code",
      "source": [
        "# Loop through numbers from 1 to 10 (inclusive)\n",
        "for num in range(1, 11):\n",
        "  print(num)"
      ],
      "metadata": {
        "colab": {
          "base_uri": "https://localhost:8080/"
        },
        "id": "UlJeZciN3yZU",
        "outputId": "68028e43-1999-4b5f-ca2b-44eae8e99093"
      },
      "execution_count": 144,
      "outputs": [
        {
          "output_type": "stream",
          "name": "stdout",
          "text": [
            "1\n",
            "2\n",
            "3\n",
            "4\n",
            "5\n",
            "6\n",
            "7\n",
            "8\n",
            "9\n",
            "10\n"
          ]
        }
      ]
    },
    {
      "cell_type": "markdown",
      "source": [
        "2. Create a program that calculates the sum of all numbers in a list using a `for` loop."
      ],
      "metadata": {
        "id": "wS7A2Aiu3-9P"
      }
    },
    {
      "cell_type": "code",
      "source": [
        "# Sample list of numbers\n",
        "numbers = [1, 2, 3, 4, 5]"
      ],
      "metadata": {
        "id": "AS8VdM4S3_lE"
      },
      "execution_count": 145,
      "outputs": []
    },
    {
      "cell_type": "code",
      "source": [
        "# Initialize a variable to store the sum\n",
        "total_sum = 0"
      ],
      "metadata": {
        "id": "gHu3_4kw4BLT"
      },
      "execution_count": 146,
      "outputs": []
    },
    {
      "cell_type": "code",
      "source": [
        "# Loop through each number in the list\n",
        "for number in numbers:\n",
        "  # Add the current number to the total sum\n",
        "  total_sum += number"
      ],
      "metadata": {
        "id": "wvZqBft94CnX"
      },
      "execution_count": 147,
      "outputs": []
    },
    {
      "cell_type": "code",
      "source": [
        "# Print the sum of all numbers\n",
        "print(\"The sum of all numbers in the list is:\", total_sum)"
      ],
      "metadata": {
        "colab": {
          "base_uri": "https://localhost:8080/"
        },
        "id": "bzeXLwWD4EZn",
        "outputId": "d1f67762-5486-4024-cfbc-181e02af2c65"
      },
      "execution_count": 148,
      "outputs": [
        {
          "output_type": "stream",
          "name": "stdout",
          "text": [
            "The sum of all numbers in the list is: 15\n"
          ]
        }
      ]
    },
    {
      "cell_type": "markdown",
      "source": [
        "3. Write a program to print the characters of a string in reverse order using a `for` loop."
      ],
      "metadata": {
        "id": "33-4Rbcz4JAG"
      }
    },
    {
      "cell_type": "code",
      "source": [
        "def print_reverse(text):\n",
        "  \"\"\"Prints the characters of a string in reverse order using a for loop.\n",
        "\n",
        "  Args:\n",
        "    text: The string to be reversed.\n",
        "  \"\"\"\n",
        "\n",
        "  # Loop through characters in reverse order using range and len\n",
        "  for i in range(len(text) - 1, -1, -1):\n",
        "    print(text[i], end=\"\")"
      ],
      "metadata": {
        "id": "-xB4yOoB4MLw"
      },
      "execution_count": 149,
      "outputs": []
    },
    {
      "cell_type": "code",
      "source": [
        "# Example string\n",
        "text = \"Hello, world!\""
      ],
      "metadata": {
        "id": "ZUXdaJ2K4SyT"
      },
      "execution_count": 150,
      "outputs": []
    },
    {
      "cell_type": "code",
      "source": [
        "# Print the characters in reverse order\n",
        "print_reverse(text)"
      ],
      "metadata": {
        "colab": {
          "base_uri": "https://localhost:8080/"
        },
        "id": "olc35TeT4UjM",
        "outputId": "c43ca847-1030-4d9e-ca21-e62525bb1eef"
      },
      "execution_count": 151,
      "outputs": [
        {
          "output_type": "stream",
          "name": "stdout",
          "text": [
            "!dlrow ,olleH"
          ]
        }
      ]
    },
    {
      "cell_type": "markdown",
      "source": [
        "4. Develop a program that finds the factorial of a given number using a `for` loop."
      ],
      "metadata": {
        "id": "qK31nzty4YVX"
      }
    },
    {
      "cell_type": "code",
      "source": [
        "def calculate_factorial(number):\n",
        "  \"\"\"Calculates the factorial of a non-negative integer using a for loop.\n",
        "\n",
        "  Args:\n",
        "    number: The non-negative integer for which to calculate the factorial.\n",
        "\n",
        "  Returns:\n",
        "    The factorial of the number, or None if the number is negative.\n",
        "  \"\"\"\n",
        "\n",
        "  # Factorial is not defined for negative numbers\n",
        "  if number < 0:\n",
        "    return None\n",
        "\n",
        "  # Initialize the factorial with 1 (base case)\n",
        "  factorial = 1\n",
        "\n",
        "  # Loop through numbers from 1 to the given number\n",
        "  for i in range(1, number + 1):\n",
        "    # Multiply the factorial by the current number\n",
        "    factorial *= i\n",
        "\n",
        "  return factorial"
      ],
      "metadata": {
        "id": "olxD_ZJ44a3v"
      },
      "execution_count": 152,
      "outputs": []
    },
    {
      "cell_type": "code",
      "source": [
        "# Sample number\n",
        "num = 5"
      ],
      "metadata": {
        "id": "86F6D1FQ4gl3"
      },
      "execution_count": 153,
      "outputs": []
    },
    {
      "cell_type": "code",
      "source": [
        "# Calculate and print the factorial\n",
        "factorial_result = calculate_factorial(num)\n",
        "\n",
        "if factorial_result is not None:\n",
        "  print(f\"The factorial of {num} is: {factorial_result}\")\n",
        "else:\n",
        "  print(\"Factorial is not defined for negative numbers.\")"
      ],
      "metadata": {
        "colab": {
          "base_uri": "https://localhost:8080/"
        },
        "id": "1TlycEZs4iV_",
        "outputId": "fc7f5f60-751a-4ce1-cccd-7028332b8c6f"
      },
      "execution_count": 154,
      "outputs": [
        {
          "output_type": "stream",
          "name": "stdout",
          "text": [
            "The factorial of 5 is: 120\n"
          ]
        }
      ]
    },
    {
      "cell_type": "markdown",
      "source": [
        "5. Create a program to print the multiplication table of a given number using a `for` loop."
      ],
      "metadata": {
        "id": "oYmbBRzp4lpW"
      }
    },
    {
      "cell_type": "code",
      "source": [
        "def print_multiplication_table(number):\n",
        "  \"\"\"Prints the multiplication table of a given number using a for loop.\n",
        "\n",
        "  Args:\n",
        "    number: The number for which to print the multiplication table.\n",
        "  \"\"\"\n",
        "\n",
        "  # Print the table header\n",
        "  print(f\"Multiplication table of {number}:\")\n",
        "\n",
        "  # Loop through numbers from 1 to 10 (inclusive)\n",
        "  for i in range(1, 11):\n",
        "    # Calculate the product and print it in a formatted way\n",
        "    product = number * i\n",
        "    print(f\"{number} x {i} = {product}\")"
      ],
      "metadata": {
        "id": "_03mD3ha4pHH"
      },
      "execution_count": 155,
      "outputs": []
    },
    {
      "cell_type": "code",
      "source": [
        "# Set the number for the multiplication table\n",
        "num = 156"
      ],
      "metadata": {
        "id": "V57pyiPa4vmf"
      },
      "execution_count": 158,
      "outputs": []
    },
    {
      "cell_type": "code",
      "source": [
        "# Print the multiplication table\n",
        "print_multiplication_table(num)"
      ],
      "metadata": {
        "colab": {
          "base_uri": "https://localhost:8080/"
        },
        "id": "lEmsosdP4xp6",
        "outputId": "3cce258b-7207-44d2-d4a1-d2741d8903a6"
      },
      "execution_count": 159,
      "outputs": [
        {
          "output_type": "stream",
          "name": "stdout",
          "text": [
            "Multiplication table of 156:\n",
            "156 x 1 = 156\n",
            "156 x 2 = 312\n",
            "156 x 3 = 468\n",
            "156 x 4 = 624\n",
            "156 x 5 = 780\n",
            "156 x 6 = 936\n",
            "156 x 7 = 1092\n",
            "156 x 8 = 1248\n",
            "156 x 9 = 1404\n",
            "156 x 10 = 1560\n"
          ]
        }
      ]
    },
    {
      "cell_type": "markdown",
      "source": [
        "6. Write a program that counts the number of even and odd numbers in a list using a `for` loop."
      ],
      "metadata": {
        "id": "Ij-eZFpU46dV"
      }
    },
    {
      "cell_type": "code",
      "source": [
        "def count_even_odd(numbers):\n",
        "  \"\"\"Counts the number of even and odd numbers in a list using a for loop.\n",
        "\n",
        "  Args:\n",
        "    numbers: The list of numbers to be analyzed.\n",
        "\n",
        "  Returns:\n",
        "    A tuple containing the count of even numbers and odd numbers.\n",
        "  \"\"\"\n",
        "\n",
        "  even_count = 0\n",
        "  odd_count = 0\n",
        "\n",
        "  for number in numbers:\n",
        "    if number % 2 == 0:\n",
        "      even_count += 1\n",
        "    else:\n",
        "      odd_count += 1\n",
        "\n",
        "  return even_count, odd_count"
      ],
      "metadata": {
        "id": "yxsbfruc47-6"
      },
      "execution_count": 160,
      "outputs": []
    },
    {
      "cell_type": "code",
      "source": [
        "# Sample list of numbers\n",
        "numbers = [1, 2, 3, 4, 5, 6, 7, 8, 9, 10]"
      ],
      "metadata": {
        "id": "TNh_ZVTR5C-f"
      },
      "execution_count": 161,
      "outputs": []
    },
    {
      "cell_type": "code",
      "source": [
        "# Count even and odd numbers\n",
        "even_numbers, odd_numbers = count_even_odd(numbers)"
      ],
      "metadata": {
        "id": "TknUnWHC5EuV"
      },
      "execution_count": 162,
      "outputs": []
    },
    {
      "cell_type": "code",
      "source": [
        "# Print the results\n",
        "print(f\"Even numbers: {even_numbers}\")\n",
        "print(f\"Odd numbers: {odd_numbers}\")"
      ],
      "metadata": {
        "colab": {
          "base_uri": "https://localhost:8080/"
        },
        "id": "6NSg6NAK5Gib",
        "outputId": "4c146df0-ace0-4fc3-83f9-38e370f73d12"
      },
      "execution_count": 163,
      "outputs": [
        {
          "output_type": "stream",
          "name": "stdout",
          "text": [
            "Even numbers: 5\n",
            "Odd numbers: 5\n"
          ]
        }
      ]
    },
    {
      "cell_type": "markdown",
      "source": [
        "7. Develop a program that prints the squares of numbers from 1 to 5 using a `for` loop."
      ],
      "metadata": {
        "id": "WuKACPdV5KOl"
      }
    },
    {
      "cell_type": "code",
      "source": [
        "# Loop through numbers from 1 to 5 (inclusive)\n",
        "for num in range(1, 6):\n",
        "  # Calculate and print the square\n",
        "  square = num * num\n",
        "  print(f\"The square of {num} is: {square}\")"
      ],
      "metadata": {
        "colab": {
          "base_uri": "https://localhost:8080/"
        },
        "id": "uW0SnbKw5MXv",
        "outputId": "876c10d8-f8dc-41f4-c047-dad8654ef249"
      },
      "execution_count": 164,
      "outputs": [
        {
          "output_type": "stream",
          "name": "stdout",
          "text": [
            "The square of 1 is: 1\n",
            "The square of 2 is: 4\n",
            "The square of 3 is: 9\n",
            "The square of 4 is: 16\n",
            "The square of 5 is: 25\n"
          ]
        }
      ]
    },
    {
      "cell_type": "markdown",
      "source": [
        "8. Create a program to find the length of a string without using the `len()` function."
      ],
      "metadata": {
        "id": "2icyRO_j5TWk"
      }
    },
    {
      "cell_type": "code",
      "source": [
        "def string_length(text):\n",
        "  \"\"\"Calculates the length of a string without using the len() function.\n",
        "\n",
        "  Args:\n",
        "    text: The string for which to find the length.\n",
        "\n",
        "  Returns:\n",
        "    The length of the string.\n",
        "  \"\"\"\n",
        "\n",
        "  count = 0\n",
        "  for char in text:\n",
        "    count += 1  # Increment counter for each character\n",
        "  return count"
      ],
      "metadata": {
        "id": "wN-VER5J5Veg"
      },
      "execution_count": 165,
      "outputs": []
    },
    {
      "cell_type": "code",
      "source": [
        "# Sample string\n",
        "text = \"Hello, world!\""
      ],
      "metadata": {
        "id": "wzNNJk8r5aX8"
      },
      "execution_count": 166,
      "outputs": []
    },
    {
      "cell_type": "code",
      "source": [
        "# Find and print the string length\n",
        "string_len = string_length(text)\n",
        "print(f\"The length of the string '{text}' is: {string_len}\")"
      ],
      "metadata": {
        "colab": {
          "base_uri": "https://localhost:8080/"
        },
        "id": "Xbk9vtbC5cf4",
        "outputId": "10b693cc-0fcb-4de6-d4a9-b67f97868e59"
      },
      "execution_count": 167,
      "outputs": [
        {
          "output_type": "stream",
          "name": "stdout",
          "text": [
            "The length of the string 'Hello, world!' is: 13\n"
          ]
        }
      ]
    },
    {
      "cell_type": "markdown",
      "source": [
        "9. Write a program that calculates the average of a list of numbers using a `for` loop."
      ],
      "metadata": {
        "id": "FaSKom3L5ibO"
      }
    },
    {
      "cell_type": "code",
      "source": [
        "def calculate_average(numbers):\n",
        "  \"\"\"Calculates the average of a list of numbers using a for loop.\n",
        "\n",
        "  Args:\n",
        "    numbers: The list of numbers for which to find the average.\n",
        "\n",
        "  Returns:\n",
        "    The average of the numbers, or None if the list is empty.\n",
        "  \"\"\"\n",
        "\n",
        "  # Check for empty list\n",
        "  if not numbers:\n",
        "    return None\n",
        "\n",
        "  # Initialize total sum to 0\n",
        "  total_sum = 0\n",
        "\n",
        "  # Loop through numbers and accumulate sum\n",
        "  for number in numbers:\n",
        "    total_sum += number\n",
        "\n",
        "  # Calculate average (avoid division by zero)\n",
        "  average = total_sum / len(numbers) if len(numbers) > 0 else None\n",
        "\n",
        "  return average"
      ],
      "metadata": {
        "id": "Av6aQNqo5mH3"
      },
      "execution_count": 168,
      "outputs": []
    },
    {
      "cell_type": "code",
      "source": [
        "# Sample list of numbers\n",
        "numbers = [2, 4, 6, 8, 10]"
      ],
      "metadata": {
        "id": "3Ue-vYEP5q8h"
      },
      "execution_count": 169,
      "outputs": []
    },
    {
      "cell_type": "code",
      "source": [
        "# Calculate and print the average\n",
        "average_value = calculate_average(numbers)\n",
        "\n",
        "if average_value is not None:\n",
        "  print(f\"The average of the list is: {average_value}\")\n",
        "else:\n",
        "  print(\"The list is empty. Average cannot be calculated.\")"
      ],
      "metadata": {
        "colab": {
          "base_uri": "https://localhost:8080/"
        },
        "id": "j-LO2Qhk5tBX",
        "outputId": "f2179fa8-5102-4e2a-af3c-6aec1173c736"
      },
      "execution_count": 170,
      "outputs": [
        {
          "output_type": "stream",
          "name": "stdout",
          "text": [
            "The average of the list is: 6.0\n"
          ]
        }
      ]
    },
    {
      "cell_type": "markdown",
      "source": [
        "10. Develop a program that prints the first `n` Fibonacci numbers using a `for` loop."
      ],
      "metadata": {
        "id": "Fa52ycfF5yDm"
      }
    },
    {
      "cell_type": "code",
      "source": [
        "def print_fibonacci(n):\n",
        "  \"\"\"Prints the first n Fibonacci numbers using a for loop.\n",
        "\n",
        "  Args:\n",
        "    n: The number of Fibonacci numbers to print.\n",
        "  \"\"\"\n",
        "\n",
        "  # Handle invalid input (n must be non-negative)\n",
        "  if n < 0:\n",
        "    print(\"Invalid input: n must be non-negative.\")\n",
        "    return\n",
        "\n",
        "  # Initialize the first two Fibonacci numbers\n",
        "  a, b = 0, 1\n",
        "\n",
        "  # Print the first two numbers (special cases)\n",
        "  print(a)\n",
        "  print(b)\n",
        "\n",
        "  # Loop to generate and print the remaining Fibonacci numbers\n",
        "  for i in range(2, n):\n",
        "    c = a + b  # Calculate the next Fibonacci number\n",
        "    print(c)\n",
        "    a, b = b, c  # Update a and b for the next iteration\n",
        "\n",
        "# Set the number of Fibonacci numbers to print\n",
        "num_fibonacci = 10\n",
        "\n",
        "# Print the Fibonacci sequence\n",
        "print_fibonacci(num_fibonacci)"
      ],
      "metadata": {
        "colab": {
          "base_uri": "https://localhost:8080/"
        },
        "id": "P4TuMlvQ6YRW",
        "outputId": "7e740627-8fbe-4534-a060-5c8ca644a38b"
      },
      "execution_count": 182,
      "outputs": [
        {
          "output_type": "stream",
          "name": "stdout",
          "text": [
            "0\n",
            "1\n",
            "1\n",
            "2\n",
            "3\n",
            "5\n",
            "8\n",
            "13\n",
            "21\n",
            "34\n"
          ]
        }
      ]
    }
  ]
}